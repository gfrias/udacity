{
 "cells": [
  {
   "cell_type": "markdown",
   "metadata": {},
   "source": [
    "# Self-Driving Car Engineer Nanodegree\n",
    "\n",
    "## Deep Learning\n",
    "\n",
    "## Project: Build a Traffic Sign Recognition Classifier\n",
    "\n",
    "In this notebook, a template is provided for you to implement your functionality in stages which is required to successfully complete this project. If additional code is required that cannot be included in the notebook, be sure that the Python code is successfully imported and included in your submission, if necessary. Sections that begin with **'Implementation'** in the header indicate where you should begin your implementation for your project. Note that some sections of implementation are optional, and will be marked with **'Optional'** in the header.\n",
    "\n",
    "In addition to implementing code, there will be questions that you must answer which relate to the project and your implementation. Each section where you will answer a question is preceded by a **'Question'** header. Carefully read each question and provide thorough answers in the following text boxes that begin with **'Answer:'**. Your project submission will be evaluated based on your answers to each of the questions and the implementation you provide.\n",
    "\n",
    ">**Note:** Code and Markdown cells can be executed using the **Shift + Enter** keyboard shortcut. In addition, Markdown cells can be edited by typically double-clicking the cell to enter edit mode."
   ]
  },
  {
   "cell_type": "markdown",
   "metadata": {},
   "source": [
    "---\n",
    "## Step 0: Load The Data"
   ]
  },
  {
   "cell_type": "code",
   "execution_count": 1,
   "metadata": {
    "collapsed": false
   },
   "outputs": [
    {
     "name": "stdout",
     "output_type": "stream",
     "text": [
      "\n",
      "Image shape: (32, 32, 3)\n",
      "\n",
      "Training Set: 31367 samples\n",
      "Validation Set: 7842 samples\n",
      "Test Set: 12630 samples\n"
     ]
    }
   ],
   "source": [
    "# Load pickled data\n",
    "import pickle\n",
    "from sklearn.model_selection import train_test_split\n",
    "\n",
    "# TODO: Fill this in based on where you saved the training and testing data\n",
    "\n",
    "training_file = '/Users/gfrias/Downloads/traffic-signs-data/train.p'\n",
    "testing_file = '/Users/gfrias/Downloads/traffic-signs-data/test.p'\n",
    "\n",
    "with open(training_file, mode='rb') as f:\n",
    "    train = pickle.load(f)\n",
    "with open(testing_file, mode='rb') as f:\n",
    "    test = pickle.load(f)\n",
    "    \n",
    "X_train, y_train = train['features'], train['labels']\n",
    "\n",
    "X_train, X_validation, y_train, y_validation = train_test_split(X_train, y_train, test_size=0.2, random_state=0)\n",
    "X_test, y_test = test['features'], test['labels']\n",
    "\n",
    "assert(len(X_train) == len(y_train))\n",
    "assert(len(X_validation) == len(y_validation))\n",
    "assert(len(X_test) == len(y_test))\n",
    "\n",
    "print()\n",
    "print(\"Image shape: {}\".format(X_train[0].shape))\n",
    "print()\n",
    "print(\"Training Set: {} samples\".format(len(X_train)))\n",
    "print(\"Validation Set: {} samples\".format(len(X_validation)))\n",
    "print(\"Test Set: {} samples\".format(len(X_test)))\n"
   ]
  },
  {
   "cell_type": "markdown",
   "metadata": {},
   "source": [
    "---\n",
    "\n",
    "## Step 1: Dataset Summary & Exploration\n",
    "\n",
    "The pickled data is a dictionary with 4 key/value pairs:\n",
    "\n",
    "- `'features'` is a 4D array containing raw pixel data of the traffic sign images, (num examples, width, height, channels).\n",
    "- `'labels'` is a 2D array containing the label/class id of the traffic sign. The file `signnames.csv` contains id -> name mappings for each id.\n",
    "- `'sizes'` is a list containing tuples, (width, height) representing the the original width and height the image.\n",
    "- `'coords'` is a list containing tuples, (x1, y1, x2, y2) representing coordinates of a bounding box around the sign in the image. **THESE COORDINATES ASSUME THE ORIGINAL IMAGE. THE PICKLED DATA CONTAINS RESIZED VERSIONS (32 by 32) OF THESE IMAGES**\n",
    "\n",
    "Complete the basic data summary below."
   ]
  },
  {
   "cell_type": "code",
   "execution_count": 2,
   "metadata": {
    "collapsed": false
   },
   "outputs": [
    {
     "name": "stdout",
     "output_type": "stream",
     "text": [
      "Summary for feature set: train\n",
      "-----------------------\n",
      "features shape: (39209, 32, 32, 3)\n",
      "labels shape: (39209,)\n",
      "sizes shape: (39209, 2)\n",
      "coord shape: (39209, 4)\n",
      "\n",
      "Summary for feature set: test\n",
      "-----------------------\n",
      "features shape: (12630, 32, 32, 3)\n",
      "labels shape: (12630,)\n",
      "sizes shape: (12630, 2)\n",
      "coord shape: (12630, 4)\n",
      "\n"
     ]
    }
   ],
   "source": [
    "def print_summary(feature_set, feature_set_name):\n",
    "    print(\"Summary for feature set: {}\".format(feature_set_name))\n",
    "    print(\"-----------------------\")\n",
    "    print(\"features shape: {}\".format(feature_set['features'].shape))\n",
    "    print(\"labels shape: {}\".format(feature_set['labels'].shape))\n",
    "    print(\"sizes shape: {}\".format(feature_set['sizes'].shape))\n",
    "    print(\"coord shape: {}\".format(feature_set['coords'].shape))\n",
    "    print()\n",
    "    \n",
    "print_summary(train, 'train')\n",
    "print_summary(test, 'test')"
   ]
  },
  {
   "cell_type": "markdown",
   "metadata": {},
   "source": [
    "Visualize the German Traffic Signs Dataset using the pickled file(s). This is open ended, suggestions include: plotting traffic sign images, plotting the count of each sign, etc.\n",
    "\n",
    "The [Matplotlib](http://matplotlib.org/) [examples](http://matplotlib.org/examples/index.html) and [gallery](http://matplotlib.org/gallery.html) pages are a great resource for doing visualizations in Python.\n",
    "\n",
    "**NOTE:** It's recommended you start with something simple first. If you wish to do more, come back to it after you've completed the rest of the sections."
   ]
  },
  {
   "cell_type": "code",
   "execution_count": 3,
   "metadata": {
    "collapsed": false
   },
   "outputs": [
    {
     "data": {
      "image/png": "[encoded data removed]",
      "text/plain": [
       "<matplotlib.figure.Figure at 0x11f910cf8>"
      ]
     },
     "metadata": {},
     "output_type": "display_data"
    }
   ],
   "source": [
    "import random\n",
    "import numpy as np\n",
    "import matplotlib.pyplot as plt\n",
    "import matplotlib as mpl \n",
    "\n",
    "mpl.rcParams.update({'figure.max_open_warning': 0})\n",
    "%matplotlib inline\n",
    "\n",
    "def load_label_descriptions(filename):\n",
    "    ret = {}\n",
    "    \n",
    "    f = open(filename)\n",
    "    for line in f:\n",
    "        v = line.rstrip().split(',')\n",
    "        ret[v[0]] = v[1]\n",
    "        \n",
    "    return ret\n",
    "\n",
    "def show_sample(X, y, index):\n",
    "    s = \"Sample: {} with Label: {} ({})\".format(index, y[index], label_descriptions[str(y[index])])\n",
    "    \n",
    "    image = X[index].squeeze()\n",
    "    \n",
    "    plt.figure(figsize=(1,1))\n",
    "    plt.text(0, -10, s)\n",
    "    plt.imshow(image, cmap=\"gray\") \n",
    "    \n",
    "label_descriptions = load_label_descriptions('signnames.csv')\n",
    "index = random.randint(0, len(X_train))\n",
    "\n",
    "show_sample(X_train, y_train, index)"
   ]
  },
  {
   "cell_type": "markdown",
   "metadata": {},
   "source": [
    "----\n",
    "\n",
    "## Step 2: Design and Test a Model Architecture\n",
    "\n",
    "Design and implement a deep learning model that learns to recognize traffic signs. Train and test your model on the [German Traffic Sign Dataset](http://benchmark.ini.rub.de/?section=gtsrb&subsection=dataset).\n",
    "\n",
    "There are various aspects to consider when thinking about this problem:\n",
    "\n",
    "- Neural network architecture\n",
    "- Play around preprocessing techniques (normalization, rgb to grayscale, etc)\n",
    "- Number of examples per label (some have more than others).\n",
    "- Generate fake data.\n",
    "\n",
    "Here is an example of a [published baseline model on this problem](http://yann.lecun.com/exdb/publis/pdf/sermanet-ijcnn-11.pdf). It's not required to be familiar with the approach used in the paper but, it's good practice to try to read papers like these.\n",
    "\n",
    "**NOTE:** The LeNet-5 implementation shown in the [classroom](https://classroom.udacity.com/nanodegrees/nd013/parts/fbf77062-5703-404e-b60c-95b78b2f3f9e/modules/6df7ae49-c61c-4bb2-a23e-6527e69209ec/lessons/601ae704-1035-4287-8b11-e2c2716217ad/concepts/d4aca031-508f-4e0b-b493-e7b706120f81) at the end of the CNN lesson is a solid starting point. You'll have to change the number of classes and possibly the preprocessing, but aside from that it's plug and play!"
   ]
  },
  {
   "cell_type": "markdown",
   "metadata": {},
   "source": [
    "### Implementation\n",
    "\n",
    "Use the code cell (or multiple code cells, if necessary) to implement the first step of your project. Once you have completed your implementation and are satisfied with the results, be sure to thoroughly answer the questions that follow."
   ]
  },
  {
   "cell_type": "code",
   "execution_count": 4,
   "metadata": {
    "collapsed": false
   },
   "outputs": [],
   "source": [
    "import cv2\n",
    "from sklearn.utils import shuffle\n",
    "\n",
    "#normalize image: (values around zero mean as discussed in the lecture)\n",
    "def normalize(Xs):\n",
    "    return np.array(list(map(lambda x: (x.astype('float32')-128)/128, Xs)))\n",
    "\n",
    "#as in the paper cited, converting images to grayscale improved signals recognition, \n",
    "#reduced the amount of input parameters\n",
    "def to_grayscale(rgb):\n",
    "    #converting to grayscale using a similar approach to MatLab\n",
    "    #https://nl.mathworks.com/help/matlab/ref/rgb2gray.html\n",
    "    ret = np.dot(rgb[...,:3], [0.299, 0.587, 0.114])\n",
    "    \n",
    "    return np.expand_dims(ret, axis=4)\n",
    "\n",
    "X_train = normalize(to_grayscale(X_train))\n",
    "X_validation = normalize(to_grayscale(X_validation))\n",
    "X_test = normalize(to_grayscale(X_test))"
   ]
  },
  {
   "cell_type": "markdown",
   "metadata": {},
   "source": [
    "### Question 1 \n",
    "\n",
    "_Describe how you preprocessed the data. Why did you choose that technique?_"
   ]
  },
  {
   "cell_type": "markdown",
   "metadata": {},
   "source": [
    "**Answer:**\n",
    "First of all, I converted the images to grayscale, after reading the cited paper for the base line model since it ackknowledges better results than using the RGB space which I also confirmed while exploring with the validation set.\n",
    "After that, I also normalized the values around 0 mean as discussed during the lectures since this it is believed to provide better numerical stability and also improved (although slightly) the results.\n",
    "Since the images provided were all 32x32, no addional padding was required as in the LeNet lab (where they were 28x28)"
   ]
  },
  {
   "cell_type": "code",
   "execution_count": null,
   "metadata": {
    "collapsed": true
   },
   "outputs": [],
   "source": []
  },
  {
   "cell_type": "markdown",
   "metadata": {},
   "source": [
    "### Question 2\n",
    "\n",
    "_Describe how you set up the training, validation and testing data for your model. **Optional**: If you generated additional data, how did you generate the data? Why did you generate the data? What are the differences in the new dataset (with generated data) from the original dataset?_"
   ]
  },
  {
   "cell_type": "markdown",
   "metadata": {},
   "source": [
    "**Answer:**\n",
    "\n",
    "The validation set was 'generated' by splitting the given train set in 80/20 for training and validation respectively by using the _train_test_split_ function\n",
    "The test set was left untouched from the one provided (except for grayscale and normalization transformations)"
   ]
  },
  {
   "cell_type": "code",
   "execution_count": 5,
   "metadata": {
    "collapsed": true
   },
   "outputs": [],
   "source": [
    "import tensorflow as tf\n",
    "from tensorflow.contrib.layers import flatten\n",
    "\n",
    "def LeNet(x):\n",
    "    mu = 0\n",
    "    sigma = 0.1\n",
    "    \n",
    "    #Layer 1: Convolutional, input = 32x32x1, output = 28x28x6\n",
    "    conv1_W = tf.Variable(tf.truncated_normal(shape=(5,5,1,6), mean=mu, stddev=sigma))\n",
    "    conv1_b = tf.Variable(tf.zeros(6))\n",
    "    conv1 = tf.nn.conv2d(x, conv1_W, strides = [1,1,1,1], padding='VALID') + conv1_b\n",
    "    \n",
    "    #Activation 1\n",
    "    conv1 = tf.nn.relu(conv1)\n",
    "    \n",
    "    #Pooling. Input=28x28x6, output=14x14x6\n",
    "    conv1 = tf.nn.max_pool(conv1, ksize=[1,2,2,1], strides=[1,2,2,1], padding='VALID')\n",
    "    \n",
    "    #Layer 2: Convolutional. Output 10x10x16\n",
    "    conv2_W = tf.Variable(tf.truncated_normal(shape=(5,5,6,16), mean=mu, stddev=sigma))\n",
    "    conv2_b = tf.Variable(tf.zeros(16))\n",
    "    conv2 = tf.nn.conv2d(conv1, conv2_W, strides=[1,1,1,1], padding='VALID') + conv2_b\n",
    "    \n",
    "    #Activation 2\n",
    "    conv2 = tf.nn.relu(conv2)\n",
    "    \n",
    "    #Pooling. Input=10x10x16. Output=5x5x16\n",
    "    conv2 = tf.nn.max_pool(conv2, ksize=[1,2,2,1], strides=[1,2,2,1], padding='VALID')\n",
    "    \n",
    "    #Flatten. Input=5x5x16. Output=400\n",
    "    fc0 = flatten(conv2)\n",
    "    \n",
    "    #Layer 3: Fully connected. Input = 400. Output = 120\n",
    "    fc1_W = tf.Variable(tf.truncated_normal(shape=(400,120), mean=mu, stddev=sigma))\n",
    "    fc1_b = tf.Variable(tf.zeros(120))\n",
    "    fc1 = tf.matmul(fc0, fc1_W) + fc1_b\n",
    "    \n",
    "    #Activation\n",
    "    fc1 = tf.nn.relu(fc1)\n",
    "    \n",
    "    #Layer 4: Fully connected. Input = 120. Output = 84\n",
    "    fc2_W = tf.Variable(tf.truncated_normal(shape=(120,84), mean=mu, stddev=sigma))\n",
    "    fc2_b = tf.Variable(tf.zeros(84))\n",
    "    fc2 = tf.matmul(fc1, fc2_W) + fc2_b\n",
    "    \n",
    "    #Activation\n",
    "    fc2 = tf.nn.relu(fc2)\n",
    "\n",
    "    #Layer 5: Fully Connected. Input = 84. Output = 43\n",
    "    fc3_W = tf.Variable(tf.truncated_normal(shape=(84,43), mean=mu, stddev=sigma))\n",
    "    fc3_b = tf.Variable(tf.zeros(43))\n",
    "    logits = tf.matmul(fc2, fc3_W) + fc3_b\n",
    "    \n",
    "    return logits"
   ]
  },
  {
   "cell_type": "code",
   "execution_count": 6,
   "metadata": {
    "collapsed": false
   },
   "outputs": [],
   "source": [
    "x = tf.placeholder(tf.float32, (None, 32, 32, 1))\n",
    "y = tf.placeholder(tf.int32, (None))\n",
    "\n",
    "one_hot_y = tf.one_hot(y, 43)"
   ]
  },
  {
   "cell_type": "code",
   "execution_count": 7,
   "metadata": {
    "collapsed": false
   },
   "outputs": [],
   "source": [
    "rate = 0.001\n",
    "\n",
    "logits = LeNet(x)\n",
    "cross_entropy = tf.nn.softmax_cross_entropy_with_logits(logits, one_hot_y)\n",
    "loss_operation = tf.reduce_mean(cross_entropy)\n",
    "optimizer = tf.train.AdamOptimizer(learning_rate=rate)\n",
    "training_operation = optimizer.minimize(loss_operation)"
   ]
  },
  {
   "cell_type": "code",
   "execution_count": 8,
   "metadata": {
    "collapsed": true
   },
   "outputs": [],
   "source": [
    "correct_prediction = tf.equal(tf.argmax(logits, 1), tf.argmax(one_hot_y, 1))\n",
    "accuracy_prediction = tf.reduce_mean(tf.cast(correct_prediction, tf.float32))\n",
    "\n",
    "def evaluate(X_data, y_data, batch_size):\n",
    "    num_examples = len(X_data)\n",
    "    total_accuracy = 0\n",
    "    sess = tf.get_default_session()\n",
    "    for offset in range(0, num_examples, batch_size):\n",
    "        batch_x, batch_y = X_data[offset:offset+batch_size], y_data[offset:offset+batch_size]\n",
    "        accuracy = sess.run(accuracy_prediction, feed_dict={x: batch_x, y: batch_y})\n",
    "        total_accuracy += (accuracy * len(batch_x))\n",
    "        \n",
    "    return total_accuracy / num_examples"
   ]
  },
  {
   "cell_type": "code",
   "execution_count": 9,
   "metadata": {
    "collapsed": false
   },
   "outputs": [
    {
     "name": "stdout",
     "output_type": "stream",
     "text": [
      "Training...\n",
      "\n",
      "EPOCH 1...\n",
      "Validation accuracy = 0.798\n",
      "\n",
      "EPOCH 2...\n",
      "Validation accuracy = 0.887\n",
      "\n",
      "EPOCH 3...\n",
      "Validation accuracy = 0.909\n",
      "\n",
      "EPOCH 4...\n",
      "Validation accuracy = 0.948\n",
      "\n",
      "EPOCH 5...\n",
      "Validation accuracy = 0.953\n",
      "\n",
      "EPOCH 6...\n",
      "Validation accuracy = 0.966\n",
      "\n",
      "EPOCH 7...\n",
      "Validation accuracy = 0.962\n",
      "\n",
      "EPOCH 8...\n",
      "Validation accuracy = 0.972\n",
      "\n",
      "EPOCH 9...\n",
      "Validation accuracy = 0.968\n",
      "\n",
      "EPOCH 10...\n",
      "Validation accuracy = 0.976\n",
      "\n",
      "Model saved\n"
     ]
    }
   ],
   "source": [
    "EPOCHS = 10\n",
    "BATCH_SIZE = 128\n",
    "\n",
    "with tf.Session() as sess:\n",
    "    sess.run(tf.global_variables_initializer())\n",
    "    num_examples = len(X_train)\n",
    "    \n",
    "    print(\"Training...\")\n",
    "    print()\n",
    "    for i in range(EPOCHS):\n",
    "        X_train, y_train = shuffle(X_train, y_train)\n",
    "        for offset in range(0, num_examples, BATCH_SIZE):\n",
    "            end = offset + BATCH_SIZE\n",
    "            batch_x, batch_y = X_train[offset:end], y_train[offset:end]\n",
    "            sess.run(training_operation, feed_dict={x:batch_x, y:batch_y})\n",
    "            \n",
    "        validation_accuracy = evaluate(X_validation, y_validation, BATCH_SIZE)\n",
    "        \n",
    "        print(\"EPOCH {}...\". format(i+1))\n",
    "        print(\"Validation accuracy = {:.3f}\".format(validation_accuracy))\n",
    "        print()\n",
    "        \n",
    "    try:\n",
    "        saver\n",
    "    except NameError:\n",
    "        saver = tf.train.Saver()\n",
    "    saver.save(sess, 'lenet')\n",
    "    print(\"Model saved\")"
   ]
  },
  {
   "cell_type": "code",
   "execution_count": 10,
   "metadata": {
    "collapsed": false
   },
   "outputs": [
    {
     "name": "stdout",
     "output_type": "stream",
     "text": [
      "Test Accuracy = 0.906\n"
     ]
    }
   ],
   "source": [
    "done_training = 1\n",
    "\n",
    "if (done_training):\n",
    "    with tf.Session() as sess:\n",
    "        saver.restore(sess, tf.train.latest_checkpoint('.'))\n",
    "\n",
    "        test_accuracy = evaluate(X_test, y_test, BATCH_SIZE)\n",
    "        print(\"Test Accuracy = {:.3f}\".format(test_accuracy))"
   ]
  },
  {
   "cell_type": "markdown",
   "metadata": {},
   "source": [
    "### Question 3\n",
    "\n",
    "_What does your final architecture look like? (Type of model, layers, sizes, connectivity, etc.)  For reference on how to build a deep neural network using TensorFlow, see [Deep Neural Network in TensorFlow\n",
    "](https://classroom.udacity.com/nanodegrees/nd013/parts/fbf77062-5703-404e-b60c-95b78b2f3f9e/modules/6df7ae49-c61c-4bb2-a23e-6527e69209ec/lessons/b516a270-8600-4f93-a0a3-20dfeabe5da6/concepts/83a3a2a2-a9bd-4b7b-95b0-eb924ab14432) from the classroom._\n"
   ]
  },
  {
   "cell_type": "markdown",
   "metadata": {},
   "source": [
    "**Answer:**\n",
    "\n",
    "The architecture used is based on the LeNet lab, it consists of 2 convolutional layers (with ReLu activation and Max pooling), flattening and 3 fully conectted layers for the final classification.\n",
    "\n",
    "* Layer 1: Convolutional, input = 32x32x1, output = 28x28x6\n",
    "* ReLu Activation 1\n",
    "* Max Pooling. Input=28x28x6, output=14x14x6\n",
    "\n",
    "* Layer 2: Convolutional. Output 10x10x16\n",
    "* ReLu Activation 2\n",
    "* Max Pooling. Input=10x10x16. Output=5x5x16\n",
    "\n",
    "* Flatten. Input=5x5x16. Output=400\n",
    "\n",
    "* Layer 3: Fully connected. Input = 400. Output = 120\n",
    "* ReLu Activation 3\n",
    "\n",
    "* Layer 4: Fully connected. Input = 120. Output = 84\n",
    "* ReLu Activation 4\n",
    "\n",
    "* Layer 5: Fully Connected. Input = 84. Output = 43\n"
   ]
  },
  {
   "cell_type": "code",
   "execution_count": null,
   "metadata": {
    "collapsed": false
   },
   "outputs": [],
   "source": []
  },
  {
   "cell_type": "markdown",
   "metadata": {},
   "source": [
    "### Question 4\n",
    "\n",
    "_How did you train your model? (Type of optimizer, batch size, epochs, hyperparameters, etc.)_\n"
   ]
  },
  {
   "cell_type": "markdown",
   "metadata": {},
   "source": [
    "**Answer:**\n",
    "\n",
    "The used optimizer is the AdamOptimizer since it provided a slightly better performance than gradient descent. Batch size = 128 and epochs = 10, several tests were done increasing the batch size and number of epochs without significant accuracy improvement and making the training phase longer so they were ruled out.\n",
    "As for the learning rate hyperparameter, by making it larger (in an order of magnitude) it increased the accuracy in the earlier epoch stages but made it unstable and less reliable by the last couple of epochs. Reducing the value in 10x would cause the training rate to be slower and less accurate, even extending the # of epochs.\n",
    "\n",
    "The original value of 0.001 turned out to be a good compromise."
   ]
  },
  {
   "cell_type": "markdown",
   "metadata": {},
   "source": [
    "### Question 5\n",
    "\n",
    "\n",
    "_What approach did you take in coming up with a solution to this problem? It may have been a process of trial and error, in which case, outline the steps you took to get to the final solution and why you chose those steps. Perhaps your solution involved an already well known implementation or architecture. In this case, discuss why you think this is suitable for the current problem._"
   ]
  },
  {
   "cell_type": "markdown",
   "metadata": {},
   "source": [
    "**Answer:**\n",
    "\n",
    "I started of by using the LeNet archicture from the MNIST digit recognition and extending it so that it will fit the new input and the amount of final clasification labels.\n",
    "After running it a few times with default parameters, I tried changing learning rate to a faster one, to a slower one, changing the number of epochs and batch sizes.\n",
    "Also I tried normalizing the RGB image as discussed in the lectures, converting it to graycale with and without normalization and found that the best combination was the normalized grayscale on the validation set."
   ]
  },
  {
   "cell_type": "markdown",
   "metadata": {},
   "source": [
    "---\n",
    "\n",
    "## Step 3: Test a Model on New Images\n",
    "\n",
    "Take several pictures of traffic signs that you find on the web or around you (at least five), and run them through your classifier on your computer to produce example results. The classifier might not recognize some local signs but it could prove interesting nonetheless.\n",
    "\n",
    "You may find `signnames.csv` useful as it contains mappings from the class id (integer) to the actual sign name."
   ]
  },
  {
   "cell_type": "markdown",
   "metadata": {},
   "source": [
    "### Implementation\n",
    "\n",
    "Use the code cell (or multiple code cells, if necessary) to implement the first step of your project. Once you have completed your implementation and are satisfied with the results, be sure to thoroughly answer the questions that follow."
   ]
  },
  {
   "cell_type": "code",
   "execution_count": 11,
   "metadata": {
    "collapsed": true
   },
   "outputs": [],
   "source": [
    "import matplotlib.image as mpimg\n",
    "import os\n",
    "\n",
    "directory = 'streetview_imgs/'\n",
    "\n",
    "imgs = []\n",
    "labels = []\n",
    "\n",
    "files = [f for f in os.listdir(directory) if os.path.isfile(directory + f) and f.endswith('png')]\n",
    "for f in files:\n",
    "    img = cv2.imread(directory + f, 1)\n",
    "    label, _ = f.split('.')[0].split('_')\n",
    "    \n",
    "    img = normalize(to_grayscale(img))\n",
    "    imgs.append(img)\n",
    "    labels.append(label)"
   ]
  },
  {
   "cell_type": "markdown",
   "metadata": {},
   "source": [
    "### Question 6\n",
    "\n",
    "_Choose five candidate images of traffic signs and provide them in the report. Are there any particular qualities of the image(s) that might make classification difficult? It could be helpful to plot the images in the notebook._\n",
    "\n"
   ]
  },
  {
   "cell_type": "markdown",
   "metadata": {},
   "source": [
    "**Answer:**\n",
    "The images were taken from Google Streetview, manually centered cropped in the sign and reduced to 32x32 RGB png color. The rest of the preprocessing is of course the same as for the training/validation/test sets.\n",
    "The images in general are sharp and not twisted/tilted (were taken when front facing the signs as much as possible) "
   ]
  },
  {
   "cell_type": "code",
   "execution_count": 21,
   "metadata": {
    "collapsed": false,
    "scrolled": true
   },
   "outputs": [
    {
     "data": {
      "image/png": "[encoded data removed]",
      "text/plain": [
       "<matplotlib.figure.Figure at 0x10c41e128>"
      ]
     },
     "metadata": {},
     "output_type": "display_data"
    },
    {
     "data": {
      "image/png": "[encoded data removed]",
      "text/plain": [
       "<matplotlib.figure.Figure at 0x10c3477b8>"
      ]
     },
     "metadata": {},
     "output_type": "display_data"
    },
    {
     "data": {
      "image/png": "[encoded data removed]",
      "text/plain": [
       "<matplotlib.figure.Figure at 0x10c3acfd0>"
      ]
     },
     "metadata": {},
     "output_type": "display_data"
    },
    {
     "data": {
      "image/png": "[encoded data removed]",
      "text/plain": [
       "<matplotlib.figure.Figure at 0x10bba59e8>"
      ]
     },
     "metadata": {},
     "output_type": "display_data"
    },
    {
     "data": {
      "image/png": "[encoded data removed]",
      "text/plain": [
       "<matplotlib.figure.Figure at 0x10bc3c898>"
      ]
     },
     "metadata": {},
     "output_type": "display_data"
    }
   ],
   "source": [
    "idx = np.random.choice(np.arange(len(imgs)), 5, replace=False)\n",
    "\n",
    "test_imgs = [imgs[i] for i in idx]\n",
    "test_labels = [int(labels[i]) for i in idx]\n",
    "\n",
    "for i in range(len(test_imgs)):\n",
    "    show_sample(test_imgs, test_labels, i)"
   ]
  },
  {
   "cell_type": "markdown",
   "metadata": {},
   "source": [
    "### Question 7\n",
    "\n",
    "_Is your model able to perform equally well on captured pictures when compared to testing on the dataset? The simplest way to do this check the accuracy of the predictions. For example, if the model predicted 1 out of 5 signs correctly, it's 20% accurate._\n",
    "\n",
    "_**NOTE:** You could check the accuracy manually by using `signnames.csv` (same directory). This file has a mapping from the class id (0-42) to the corresponding sign name. So, you could take the class id the model outputs, lookup the name in `signnames.csv` and see if it matches the sign from the image._\n"
   ]
  },
  {
   "cell_type": "markdown",
   "metadata": {},
   "source": [
    "##### **Answer:**\n",
    "Based on 22 images taken from the street signs in Google Street View, the accuracy is around 85% which is less than the ~90% from the test set.\n",
    "For the 5 randomly picked images, it is 80%.\n",
    "In order to see what to do with this differences, things like brightness, contrast and image distortion should be thought of by adding preprocessing or making the network more robust by adding layers. The last image (Right-of-way in next intersection) is considerably sharper and brighter than the samples. We could consider some image processing techniques like histogram normalization preprocessing for the training set."
   ]
  },
  {
   "cell_type": "code",
   "execution_count": 23,
   "metadata": {
    "collapsed": false
   },
   "outputs": [
    {
     "name": "stdout",
     "output_type": "stream",
     "text": [
      "Testing accuracy on 21 images...\n",
      "accuracy: 0.8571428656578064\n",
      "\n",
      "Testing accuracy on 5 images...\n",
      "accuracy: 0.800000011920929\n",
      "\n"
     ]
    }
   ],
   "source": [
    "def test_accuracy(imgs, labels):\n",
    "    X_new = np.array(imgs)\n",
    "    y_new = np.array(labels)\n",
    "\n",
    "    print (\"Testing accuracy on {} images...\".format(len(imgs)))\n",
    "    with tf.Session() as sess:\n",
    "        tf.train.Saver().restore(sess, tf.train.latest_checkpoint('.'))\n",
    "        accuracy = evaluate(X_new, y_new, len(X_new))\n",
    "        print(\"accuracy: {}\".format(accuracy))\n",
    "        print()\n",
    "        \n",
    "test_accuracy(imgs, labels)\n",
    "test_accuracy(test_imgs, test_labels)"
   ]
  },
  {
   "cell_type": "markdown",
   "metadata": {},
   "source": [
    "### Question 8\n",
    "\n",
    "*Use the model's softmax probabilities to visualize the **certainty** of its predictions, [`tf.nn.top_k`](https://www.tensorflow.org/versions/r0.12/api_docs/python/nn.html#top_k) could prove helpful here. Which predictions is the model certain of? Uncertain? If the model was incorrect in its initial prediction, does the correct prediction appear in the top k? (k should be 5 at most)*\n",
    "\n",
    "`tf.nn.top_k` will return the values and indices (class ids) of the top k predictions. So if k=3, for each sign, it'll return the 3 largest probabilities (out of a possible 43) and the correspoding class ids.\n",
    "\n",
    "Take this numpy array as an example:\n",
    "\n",
    "```\n",
    "# (5, 6) array\n",
    "a = np.array([[ 0.24879643,  0.07032244,  0.12641572,  0.34763842,  0.07893497,\n",
    "         0.12789202],\n",
    "       [ 0.28086119,  0.27569815,  0.08594638,  0.0178669 ,  0.18063401,\n",
    "         0.15899337],\n",
    "       [ 0.26076848,  0.23664738,  0.08020603,  0.07001922,  0.1134371 ,\n",
    "         0.23892179],\n",
    "       [ 0.11943333,  0.29198961,  0.02605103,  0.26234032,  0.1351348 ,\n",
    "         0.16505091],\n",
    "       [ 0.09561176,  0.34396535,  0.0643941 ,  0.16240774,  0.24206137,\n",
    "         0.09155967]])\n",
    "```\n",
    "\n",
    "Running it through `sess.run(tf.nn.top_k(tf.constant(a), k=3))` produces:\n",
    "\n",
    "```\n",
    "TopKV2(values=array([[ 0.34763842,  0.24879643,  0.12789202],\n",
    "       [ 0.28086119,  0.27569815,  0.18063401],\n",
    "       [ 0.26076848,  0.23892179,  0.23664738],\n",
    "       [ 0.29198961,  0.26234032,  0.16505091],\n",
    "       [ 0.34396535,  0.24206137,  0.16240774]]), indices=array([[3, 0, 5],\n",
    "       [0, 1, 4],\n",
    "       [0, 5, 1],\n",
    "       [1, 3, 5],\n",
    "       [1, 4, 3]], dtype=int32))\n",
    "```\n",
    "\n",
    "Looking just at the first row we get `[ 0.34763842,  0.24879643,  0.12789202]`, you can confirm these are the 3 largest probabilities in `a`. You'll also notice `[3, 0, 5]` are the corresponding indices."
   ]
  },
  {
   "cell_type": "markdown",
   "metadata": {},
   "source": [
    "**Answer:**\n",
    "\n",
    "As it can be seen in the last block code below, for image #5, the label prediction is far off ('11' is 5th place)\n",
    "This means the prediction is really innacurate for this image, and leaves room for further improvements discussed in Answer 7."
   ]
  },
  {
   "cell_type": "markdown",
   "metadata": {},
   "source": [
    "> **Note**: Once you have completed all of the code implementations and successfully answered each question above, you may finalize your work by exporting the iPython Notebook as an HTML document. You can do this by using the menu above and navigating to  \\n\",\n",
    "    \"**File -> Download as -> HTML (.html)**. Include the finished document along with this notebook as your submission."
   ]
  },
  {
   "cell_type": "code",
   "execution_count": 24,
   "metadata": {
    "collapsed": false
   },
   "outputs": [
    {
     "name": "stdout",
     "output_type": "stream",
     "text": [
      "Testing on 5 images...\n",
      "accuracy: TopKV2(values=array([[  1.00000000e+00,   6.13789184e-12,   3.47589631e-17,\n",
      "          2.75008913e-18,   2.09709440e-19],\n",
      "       [  9.99547184e-01,   1.63430173e-04,   1.04088809e-04,\n",
      "          6.26783149e-05,   6.10630450e-05],\n",
      "       [  1.00000000e+00,   3.30285026e-08,   2.78208762e-10,\n",
      "          1.02531048e-12,   1.71245288e-13],\n",
      "       [  9.96130466e-01,   3.85568733e-03,   7.11382017e-06,\n",
      "          4.89867534e-06,   1.42611668e-06],\n",
      "       [  4.84159917e-01,   3.80829424e-01,   1.30196035e-01,\n",
      "          2.16162438e-03,   1.03527424e-03]], dtype=float32), indices=array([[13, 35, 33, 34, 12],\n",
      "       [36, 12, 17, 14, 38],\n",
      "       [17, 14, 40, 12, 36],\n",
      "       [29, 24, 22, 28, 25],\n",
      "       [24, 27, 20, 30, 11]], dtype=int32))\n",
      "Test labels [13, 36, 17, 29, 11]\n"
     ]
    }
   ],
   "source": [
    "sm = tf.nn.softmax(logits)\n",
    "top_k = tf.nn.top_k(sm, 5)\n",
    "\n",
    "print (\"Testing on {} images...\".format(len(test_imgs)))\n",
    "with tf.Session() as sess:\n",
    "    tf.train.Saver().restore(sess, tf.train.latest_checkpoint('.'))\n",
    "    res = sess.run(top_k, feed_dict={x: test_imgs})\n",
    "    print(\"accuracy: {}\".format(res))\n",
    "    \n",
    "print (\"Test labels\", test_labels)"
   ]
  }
 ],
 "metadata": {
  "anaconda-cloud": {},
  "kernelspec": {
   "display_name": "Python 3",
   "language": "python",
   "name": "python3"
  },
  "language_info": {
   "codemirror_mode": {
    "name": "ipython",
    "version": 3
   },
   "file_extension": ".py",
   "mimetype": "text/x-python",
   "name": "python",
   "nbconvert_exporter": "python",
   "pygments_lexer": "ipython3",
   "version": "3.5.2"
  },
  "widgets": {
   "state": {},
   "version": "1.1.2"
  }
 },
 "nbformat": 4,
 "nbformat_minor": 1
}
